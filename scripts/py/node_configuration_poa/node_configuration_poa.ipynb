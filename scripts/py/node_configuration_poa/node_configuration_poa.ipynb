{
 "cells": [
  {
   "cell_type": "markdown",
   "metadata": {},
   "source": [
    "# PyMongo Query\n",
    "\n",
    "db = \"test\"\n",
    "collection = \"benchmarklogs\""
   ]
  },
  {
   "cell_type": "code",
   "execution_count": 1,
   "metadata": {},
   "outputs": [],
   "source": [
    "from pymongo import MongoClient\n",
    "client = MongoClient()\n",
    "\n",
    "db = client['test']\n",
    "collection = db['benchmarklogs']"
   ]
  },
  {
   "cell_type": "markdown",
   "metadata": {},
   "source": [
    "# PyMongo Query ->Pandas DataFrame"
   ]
  },
  {
   "cell_type": "code",
   "execution_count": 2,
   "metadata": {},
   "outputs": [],
   "source": [
    "import numpy as np\n",
    "import pandas as pd\n",
    "\n",
    "query = {\"$and\":[ {\"$or\":[{\"instanceType\":\"c5.large\"},{\"instanceType\":\"t2.xlarge\"},{\"instanceType\":\"c5.xlarge\"},{\"instanceType\":\"c5.2xlarge\"},{\"instanceType\":\"c5.4xlarge\"}]}, \n",
    "        {\"usedGenesisJson\":\"genesis_poa_max_performance.json\"}, {\"maxTransactions\": 1000}, {\"scenario\":\"account\"}, {\"nodes\":5}]}\n",
    "\n",
    "# query = {}\n",
    "\n",
    "# Make a query to the specific DB and Collection\n",
    "cursor = collection.find(query)\n",
    "\n",
    "# Expand the cursor and construct the DataFrame\n",
    "df = pd.DataFrame(list(cursor))\n",
    "\n",
    "#display(df.head(200))"
   ]
  },
  {
   "cell_type": "markdown",
   "metadata": {},
   "source": [
    "# Pandas DataFrame -> Plot\n",
    "## Throughput"
   ]
  },
  {
   "cell_type": "code",
   "execution_count": 3,
   "metadata": {},
   "outputs": [],
   "source": [
    "import matplotlib.pyplot as plt\n",
    "\n",
    "data_tps_instanceType = df[['txPerSecond','instanceType']]\n",
    "data_hashRate_instanceType = df[['hashRate','instanceType']]\n",
    "\n",
    "title = \"Throughput against Node Configuration (PoA)\"\n",
    "xlabel = \"Node Configuration\"\n",
    "ylabel = \"Transactions Per Second (TPS)\"\n",
    "ylabelAverage = \"Average Transactions Per Second (TPS)\"\n",
    "\n",
    "avg1_tps = data_tps_instanceType.loc[df['instanceType'] == \"c5.large\"].iloc[:,0].mean()\n",
    "avg2_tps = data_tps_instanceType.loc[df['instanceType'] == \"c5.xlarge\"].iloc[:,0].mean()\n",
    "avg3_tps = data_tps_instanceType.loc[df['instanceType'] == \"t2.xlarge\"].iloc[:,0].mean()\n",
    "avg4_tps = data_tps_instanceType.loc[df['instanceType'] == \"c5.2xlarge\"].iloc[:,0].mean()\n",
    "avg5_tps = data_tps_instanceType.loc[df['instanceType'] == \"c5.4xlarge\"].iloc[:,0].mean()\n",
    "\n",
    "hashRate1 = data_hashRate_instanceType.loc[df['instanceType'] == \"c5.large\"].iloc[:,0].mean()\n",
    "hashRate2 = data_hashRate_instanceType.loc[df['instanceType'] == \"c5.xlarge\"].iloc[:,0].mean()\n",
    "hashRate3 = data_hashRate_instanceType.loc[df['instanceType'] == \"t2.xlarge\"].iloc[:,0].mean()\n",
    "hashRate4 = data_hashRate_instanceType.loc[df['instanceType'] == \"c5.2xlarge\"].iloc[:,0].mean()\n",
    "hashRate5 = data_hashRate_instanceType.loc[df['instanceType'] == \"c5.4xlarge\"].iloc[:,0].mean()"
   ]
  },
  {
   "cell_type": "code",
   "execution_count": 4,
   "metadata": {},
   "outputs": [
    {
     "data": {
      "image/png": "[encoded data removed]",
      "text/plain": [
       "<Figure size 648x432 with 1 Axes>"
      ]
     },
     "metadata": {
      "needs_background": "light"
     },
     "output_type": "display_data"
    }
   ],
   "source": [
    "color_latency=\"#ff7f0e\"\n",
    "color_tps=\"#1f77b4\"\n",
    "objects = ('c5.large', 'c5.xlarge', 't2.xlarge', 'c5.2xlarge', 'c5.4xlarge')\n",
    "\n",
    "fig = plt.figure(1, figsize=(9, 6))\n",
    "\n",
    "# Create an axes instance\n",
    "ax = fig.add_subplot(111)\n",
    "\n",
    "ax.set_title(title)\n",
    "ax.set_xlabel(xlabel)\n",
    "ax.set_ylabel(ylabel)\n",
    "\n",
    "# Create the boxplot\n",
    "\n",
    "## combine these different collections into a list    \n",
    "data_to_plot = [data_tps_instanceType.loc[df['instanceType'] == \"c5.large\"].iloc[:,0],\n",
    "                data_tps_instanceType.loc[df['instanceType'] == \"c5.xlarge\"].iloc[:,0],\n",
    "                data_tps_instanceType.loc[df['instanceType'] == \"t2.xlarge\"].iloc[:,0],\n",
    "                data_tps_instanceType.loc[df['instanceType'] == \"c5.2xlarge\"].iloc[:,0],\n",
    "                data_tps_instanceType.loc[df['instanceType'] == \"c5.4xlarge\"].iloc[:,0]]\n",
    "\n",
    "bp = ax.boxplot(data_to_plot,labels=objects, patch_artist=True) \n",
    "\n",
    "## change outline color, fill color and linewidth of the boxes\n",
    "for box in bp['boxes']:\n",
    "    # change outline color\n",
    "    box.set( color=color_tps, linewidth=2)\n",
    "    # change fill color\n",
    "    box.set( facecolor = 'w' )\n",
    "    \n",
    "## change color and linewidth of the medians\n",
    "for median in bp['medians']:\n",
    "    median.set(color=\"k\", linewidth=2) \n",
    "    \n",
    "fig.savefig(\"nodes_configuration_poa_throughput_boxplot.svg\", format=\"svg\")\n",
    "\n"
   ]
  },
  {
   "cell_type": "code",
   "execution_count": 5,
   "metadata": {},
   "outputs": [
    {
     "data": {
      "image/png": "[encoded data removed]",
      "text/plain": [
       "<Figure size 432x288 with 1 Axes>"
      ]
     },
     "metadata": {
      "needs_background": "light"
     },
     "output_type": "display_data"
    }
   ],
   "source": [
    "y_pos = np.arange(len(objects))\n",
    "performance = [avg1_tps,avg2_tps,avg3_tps,avg4_tps,avg5_tps]\n",
    " \n",
    "plt.bar(y_pos, performance, align='center', alpha=0.5, color=color_tps)\n",
    "plt.xticks(y_pos, objects)\n",
    "plt.ylabel(ylabelAverage)\n",
    "plt.title(title)\n",
    "plt.savefig(\"nodes_configuration_poa_throughput_barchart.svg\", format=\"svg\")\n",
    "plt.show()"
   ]
  },
  {
   "cell_type": "markdown",
   "metadata": {},
   "source": [
    "## Latency"
   ]
  },
  {
   "cell_type": "code",
   "execution_count": 6,
   "metadata": {},
   "outputs": [],
   "source": [
    "data_latency_instanceType = df[['averageDelay','instanceType']]\n",
    "data_hashRate_instanceType = df[['hashRate','instanceType']]\n",
    "\n",
    "title = \"Latency against Node Configuration (PoA)\"\n",
    "xlabel = \"Node Configuration\"\n",
    "ylabel = \"Transaction Latency [seconds]\"\n",
    "ylabelAverage = \"Average Transaction Latency [seconds]\"\n",
    "\n",
    "\n",
    "avg1_latency = data_latency_instanceType.loc[df['instanceType'] == \"c5.large\"].iloc[:,0].mean()\n",
    "avg2_latency = data_latency_instanceType.loc[df['instanceType'] == \"c5.xlarge\"].iloc[:,0].mean()\n",
    "avg3_latency = data_latency_instanceType.loc[df['instanceType'] == \"t2.xlarge\"].iloc[:,0].mean()\n",
    "avg4_latency = data_latency_instanceType.loc[df['instanceType'] == \"c5.2xlarge\"].iloc[:,0].mean()\n",
    "avg5_latency = data_latency_instanceType.loc[df['instanceType'] == \"c5.4xlarge\"].iloc[:,0].mean()\n",
    "\n",
    "hashRate1 = data_hashRate_instanceType.loc[df['instanceType'] == \"c5.large\"].iloc[:,0].mean()\n",
    "hashRate2 = data_hashRate_instanceType.loc[df['instanceType'] == \"c5.xlarge\"].iloc[:,0].mean()\n",
    "hashRate3 = data_hashRate_instanceType.loc[df['instanceType'] == \"t2.xlarge\"].iloc[:,0].mean()\n",
    "hashRate4 = data_hashRate_instanceType.loc[df['instanceType'] == \"c5.2xlarge\"].iloc[:,0].mean()\n",
    "hashRate5 = data_hashRate_instanceType.loc[df['instanceType'] == \"c5.4xlarge\"].iloc[:,0].mean()"
   ]
  },
  {
   "cell_type": "code",
   "execution_count": 7,
   "metadata": {},
   "outputs": [
    {
     "data": {
      "image/png": "[encoded data removed]",
      "text/plain": [
       "<Figure size 648x432 with 1 Axes>"
      ]
     },
     "metadata": {
      "needs_background": "light"
     },
     "output_type": "display_data"
    }
   ],
   "source": [
    "fig = plt.figure(1, figsize=(9, 6))\n",
    "\n",
    "# Create an axes instance\n",
    "ax = fig.add_subplot(111)\n",
    "\n",
    "ax.set_title(title)\n",
    "ax.set_xlabel(xlabel)\n",
    "ax.set_ylabel(ylabel)\n",
    "\n",
    "# Create the boxplot\n",
    "\n",
    "## combine these different collections into a list    \n",
    "data_to_plot = [data_latency_instanceType.loc[df['instanceType'] == \"c5.large\"].iloc[:,0],\n",
    "                data_latency_instanceType.loc[df['instanceType'] == \"c5.xlarge\"].iloc[:,0],\n",
    "                data_latency_instanceType.loc[df['instanceType'] == \"t2.xlarge\"].iloc[:,0],\n",
    "                data_latency_instanceType.loc[df['instanceType'] == \"c5.2xlarge\"].iloc[:,0],\n",
    "                data_latency_instanceType.loc[df['instanceType'] == \"c5.4xlarge\"].iloc[:,0]]\n",
    "\n",
    "bp = ax.boxplot(data_to_plot,labels=objects)\n",
    "\n",
    "## change outline color, fill color and linewidth of the boxes\n",
    "for box in bp['boxes']:\n",
    "    # change outline color\n",
    "    box.set( color=color_latency, linewidth=2)\n",
    "    # change fill color\n",
    "    #box.set( facecolor = 'w' )\n",
    "    \n",
    "## change color and linewidth of the medians\n",
    "for median in bp['medians']:\n",
    "    median.set(color=\"k\", linewidth=2) \n",
    "    \n",
    "fig.savefig(\"nodes_configuration_poa_latency_boxplot.svg\", format=\"svg\")"
   ]
  },
  {
   "cell_type": "code",
   "execution_count": null,
   "metadata": {},
   "outputs": [],
   "source": [
    "objects = ('c5.large', 'c5.xlarge', 't2.xlarge', 'c5.2xlarge', 'c5.4xlarge')\n",
    "y_pos = np.arange(len(objects))\n",
    "performance = [avg1_latency,avg2_latency,avg3_latency,avg4_latency,avg5_latency]\n",
    " \n",
    "plt.bar(y_pos, performance, align='center', alpha=0.5, color=color_latency)\n",
    "plt.xticks(y_pos, objects)\n",
    "plt.ylabel(ylabelAverage)\n",
    "plt.title(title)\n",
    "plt.savefig(\"nodes_configuration_poa_latency_barchart.svg\", format=\"svg\")\n",
    "plt.show()"
   ]
  },
  {
   "cell_type": "markdown",
   "metadata": {},
   "source": [
    "## Througput and Latency Combined"
   ]
  },
  {
   "cell_type": "code",
   "execution_count": null,
   "metadata": {},
   "outputs": [],
   "source": [
    "means_tps = [avg1_tps, avg2_tps, avg3_tps, avg4_tps, avg5_tps]\n",
    "means_latency = [avg1_latency, avg2_latency, avg3_latency, avg4_latency, avg5_latency]\n",
    "\n",
    "df = pd.DataFrame({'Average Throughput [TPS]':means_tps, 'Average Latency [seconds]':means_latency})\n",
    "print(df)\n",
    "\n",
    "fig = plt.figure()\n",
    "ax = df.plot( kind= 'bar' , color=tuple([color_tps, color_latency]), secondary_y= ['Average Latency [seconds]'] ,mark_right=True,ylim=(0, 240), use_index=False)\n",
    "ax.set_xticklabels(objects)\n",
    "ax.set_title('Throughput and Latency against Node Configuration (PoA)')\n",
    "ax.figure.savefig(\"nodes_configuration_poa_combined_barchart.svg\", format=\"svg\",bbox_inches='tight')\n",
    "plt.show()"
   ]
  }
 ],
 "metadata": {
  "kernelspec": {
   "display_name": "Python 3",
   "language": "python",
   "name": "python3"
  },
  "language_info": {
   "codemirror_mode": {
    "name": "ipython",
    "version": 3
   },
   "file_extension": ".py",
   "mimetype": "text/x-python",
   "name": "python",
   "nbconvert_exporter": "python",
   "pygments_lexer": "ipython3",
   "version": "3.7.0"
  }
 },
 "nbformat": 4,
 "nbformat_minor": 2
}
